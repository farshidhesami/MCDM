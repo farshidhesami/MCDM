{
 "cells": [
  {
   "cell_type": "markdown",
   "metadata": {},
   "source": [
    "## Rough WASPAS :"
   ]
  },
  {
   "cell_type": "code",
   "execution_count": 1,
   "metadata": {},
   "outputs": [
    {
     "name": "stdout",
     "output_type": "stream",
     "text": [
      "Normalized Matrix:\n",
      "[[0.59974653 0.61954444 0.39653963]\n",
      " [0.48022921 0.61954444 0.46236521]\n",
      " [0.64006562 0.48200557 0.79307927]]\n",
      "\n",
      "Rough WASPAS Ranking:\n",
      "Rank 1: Alternative 2\n",
      "Rank 2: Alternative 1\n"
     ]
    }
   ],
   "source": [
    "import numpy as np\n",
    "\n",
    "# Step 1: Decision Matrix\n",
    "decision_matrix = np.array([\n",
    "    [0.833, 1.000, 0.500],\n",
    "    [0.667, 1.000, 0.583],\n",
    "    [0.889, 0.778, 1.000]\n",
    "])\n",
    "\n",
    "# Step 2: Normalization\n",
    "normalized_matrix = decision_matrix / np.linalg.norm(decision_matrix, axis=0)\n",
    "\n",
    "# Step 3: Rough Normalization\n",
    "lower_approximation = np.array([\n",
    "    [0.7, 0.6, 0.7],\n",
    "    [0.9, 0.8, 0.9]\n",
    "])\n",
    "upper_approximation = np.array([\n",
    "    [0.9, 0.8, 0.9],\n",
    "    [0.8, 0.7, 0.8]\n",
    "])\n",
    "\n",
    "# Step 4: Rough Q(1)i and Q(2)i\n",
    "rough_q1_values = np.sum(lower_approximation, axis=1)\n",
    "rough_q2_values = np.prod(upper_approximation, axis=1)\n",
    "\n",
    "# Step 5: Rough Total Relative Significance\n",
    "lambda_value = 0.5  # Combination parameter\n",
    "qi_values = lambda_value * rough_q1_values + (1 - lambda_value) * rough_q2_values\n",
    "\n",
    "# Step 6: Ranking Alternatives\n",
    "ranking = np.argsort(qi_values)[::-1]  # Descending order\n",
    "\n",
    "print(\"Normalized Matrix:\")\n",
    "print(normalized_matrix)\n",
    "print(\"\\nRough WASPAS Ranking:\")\n",
    "for rank, alternative in enumerate(ranking, start=1):\n",
    "    print(f\"Rank {rank}: Alternative {alternative + 1}\")\n"
   ]
  },
  {
   "cell_type": "markdown",
   "metadata": {},
   "source": [
    "---------------------------------------------------------------------------"
   ]
  },
  {
   "cell_type": "markdown",
   "metadata": {},
   "source": [
    "### Analysis:\n",
    "\n",
    "- WASPAS Method Result: According to the WASPAS method, the ranking of alternatives is as follows:\n",
    "     - Alternative 3 is ranked as the best choice (Rank 1).\n",
    "     - Alternative 2 is ranked second (Rank 2).\n",
    "     - Alternative 1 is ranked last (Rank 3).\n",
    "\n",
    "- Rough WASPAS Method Result: The normalized matrix for the Rough WASPAS method is provided. However, since you didn't provide the exact ranking based on the Rough WASPAS scores, I'll assume that the ranking is as follows:\n",
    "\n",
    "- Alternative 2 is ranked as the best choice (Rank 1).\n",
    "- Alternative 1 is ranked second (Rank 2).\n",
    "\n",
    "### Comparing the Results:\n",
    "- The WASPAS method and the Rough WASPAS method have produced different rankings for the alternatives.\n",
    "- In the WASPAS method, the alternative ranking is 3 > 2 > 1.\n",
    "- In the Rough WASPAS method, the alternative ranking is 2 > 1.\n",
    "- It's important to note that the ranking of alternatives can vary depending on the method used and the specific dataset. \n",
    "- The results indicate that the two methods have led to different conclusions about the best alternatives. \n",
    "- The choice of method should be based on the specific characteristics of the decision problem and the preferences of the decision-maker.\n"
   ]
  }
 ],
 "metadata": {
  "kernelspec": {
   "display_name": "env1",
   "language": "python",
   "name": "python3"
  },
  "language_info": {
   "codemirror_mode": {
    "name": "ipython",
    "version": 3
   },
   "file_extension": ".py",
   "mimetype": "text/x-python",
   "name": "python",
   "nbconvert_exporter": "python",
   "pygments_lexer": "ipython3",
   "version": "3.8.0"
  },
  "orig_nbformat": 4
 },
 "nbformat": 4,
 "nbformat_minor": 2
}
